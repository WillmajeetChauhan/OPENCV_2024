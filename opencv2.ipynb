{
 "cells": [
  {
   "cell_type": "code",
   "execution_count": 3,
   "id": "9e5ac35a-d2fb-4f02-bcec-5e886f27c4aa",
   "metadata": {},
   "outputs": [],
   "source": [
    "import cv2\n",
    "import numpy as np"
   ]
  },
  {
   "cell_type": "code",
   "execution_count": 7,
   "id": "263f5e07-1b75-4e9c-8912-ca746f9f79c5",
   "metadata": {},
   "outputs": [],
   "source": [
    "#background subtraction\n",
    "org_v = cv2.VideoCapture(r\"C:\\Users\\HP LAPTOP-PC\\Pictures\\Camera Roll\\WIN_20240720_16_16_54_Pro.mp4\")\n",
    "sub_m = cv2.createBackgroundSubtractorMOG2()  # to subtract background\n",
    "while True:\n",
    "    r,frame = org_v.read()\n",
    "    if r == True:\n",
    "        frame = cv2.resize(frame,(700,500))\n",
    "        sub_v = sub_m.apply(frame) # apply on current video\n",
    "        cv2.imshow(\"willmajeet_sub\",sub_v)\n",
    "        cv2.imshow(\"willmajeet_org\",frame)\n",
    "        if cv2.waitKey(25) & 0xff == ord(\"p\"):\n",
    "            break\n",
    "    else:\n",
    "         break\n",
    "org_v.release()\n",
    "cv2.destroyAllWindows()\n",
    "        "
   ]
  },
  {
   "cell_type": "code",
   "execution_count": 9,
   "id": "dd2618d6-6ba4-4dc2-ba5c-557c19df6906",
   "metadata": {},
   "outputs": [],
   "source": [
    "# extract images from video\n",
    "org_v = cv2.VideoCapture(r\"C:\\Users\\HP LAPTOP-PC\\Desktop\\moving person.mp4\")\n",
    "c = 0\n",
    "while True:\n",
    "    r,frame = org_v.read()\n",
    "    if r == True:\n",
    "\n",
    "        filename = \"C://Users//HP LAPTOP-PC/Desktop//DRDO Project//images 30//org_img_\"+str(c)+\".png\"\n",
    "        cv2.imwrite(filename,frame) #to read and extract images from video.\n",
    "        cv2.imshow(\"willmajeet_org\",frame)\n",
    "        c = c+1\n",
    "        if cv2.waitKey(25) & 0xff == ord(\"p\"):\n",
    "            break\n",
    "    else:\n",
    "         break\n",
    "org_v.release()\n",
    "cv2.destroyAllWindows()"
   ]
  },
  {
   "cell_type": "code",
   "execution_count": 9,
   "id": "c77109f5-27cf-43d5-ae78-1ddaa97bfeac",
   "metadata": {},
   "outputs": [],
   "source": [
    "# cvtcolour method - to  change the colour space(basically img are in bgr format)\n",
    "org = cv2.imread(\"img3.jpg\")\n",
    "org = cv2.resize(org,(500,500))\n",
    "\n",
    "#new = cv2.cvtColor(org,cv2.COLOR_BGR2GRAY)  CHANGE THE COLOUR  TO SPACE\n",
    "#new = cv2.cvtColor(org,cv2.COLOR_BGR2HSV) \n",
    "#new = cv2.cvtColor(org,cv2.COLOR_BGR2HLS)\n",
    "new = cv2.cvtColor(org,cv2.COLOR_BGR2LUV)\n",
    "\n",
    "cv2.imshow(\"org\",org)\n",
    "cv2.imshow(\"new\",new)\n",
    "cv2.waitKey(0)\n",
    "cv2.destroyAllWindows()\n",
    "\n"
   ]
  },
  {
   "cell_type": "code",
   "execution_count": 11,
   "id": "05effddf-7237-45d0-828f-ec2f84df7fc3",
   "metadata": {},
   "outputs": [
    {
     "name": "stdout",
     "output_type": "stream",
     "text": [
      "(600, 500, 3)\n"
     ]
    }
   ],
   "source": [
    "#CROP THE IMAGE \n",
    "\n",
    "img = cv2.imread(\"img3.jpg\")\n",
    "img = cv2.resize(img,(500,600))\n",
    "\n",
    "print(img.shape)\n",
    "# img[y1:y2, x1:x2]\n",
    "\n",
    "crop = img[:190,150:300] \n",
    "\n",
    "cv2.imshow(\"crop\",crop)\n",
    "cv2.imshow(\"willmajeet\",img)\n",
    "cv2.waitKey(0)\n",
    "cv2.destroyAllWindows()\n"
   ]
  },
  {
   "cell_type": "code",
   "execution_count": 66,
   "id": "5e340bfe-23d0-40bb-8a55-d372ac9bf1b3",
   "metadata": {},
   "outputs": [
    {
     "name": "stdout",
     "output_type": "stream",
     "text": [
      "(524, 400, 3)\n"
     ]
    }
   ],
   "source": [
    "# create blank image ( all white channel & all black channel)\n",
    "\n",
    "img = cv2.imread(\"img1.jpg\")\n",
    "print(img.shape)\n",
    "\n"
   ]
  },
  {
   "cell_type": "code",
   "execution_count": 74,
   "id": "840d627f-be1e-4087-801d-2545415cf3b0",
   "metadata": {},
   "outputs": [
    {
     "name": "stdout",
     "output_type": "stream",
     "text": [
      "[[[255 255 255]\n",
      "  [255 255 255]\n",
      "  [255 255 255]\n",
      "  ...\n",
      "  [255 255 255]\n",
      "  [255 255 255]\n",
      "  [255 255 255]]\n",
      "\n",
      " [[255 255 255]\n",
      "  [255 255 255]\n",
      "  [255 255 255]\n",
      "  ...\n",
      "  [255 255 255]\n",
      "  [255 255 255]\n",
      "  [255 255 255]]\n",
      "\n",
      " [[255 255 255]\n",
      "  [255 255 255]\n",
      "  [255 255 255]\n",
      "  ...\n",
      "  [255 255 255]\n",
      "  [255 255 255]\n",
      "  [255 255 255]]\n",
      "\n",
      " ...\n",
      "\n",
      " [[255 255 255]\n",
      "  [255 255 255]\n",
      "  [255 255 255]\n",
      "  ...\n",
      "  [255 255 255]\n",
      "  [255 255 255]\n",
      "  [255 255 255]]\n",
      "\n",
      " [[255 255 255]\n",
      "  [255 255 255]\n",
      "  [255 255 255]\n",
      "  ...\n",
      "  [255 255 255]\n",
      "  [255 255 255]\n",
      "  [255 255 255]]\n",
      "\n",
      " [[255 255 255]\n",
      "  [255 255 255]\n",
      "  [255 255 255]\n",
      "  ...\n",
      "  [255 255 255]\n",
      "  [255 255 255]\n",
      "  [255 255 255]]]\n"
     ]
    }
   ],
   "source": [
    "new_img = np.ones((500,500,3),np.uint8)*255    # for white channel\n",
    "#print(new_img)            \n",
    "cv2.imshow(\"willmajeet\",new_img)\n",
    "cv2.waitKey(0)\n",
    "cv2.destroyAllWindows()"
   ]
  },
  {
   "cell_type": "code",
   "execution_count": 72,
   "id": "afcae976-e163-43a7-86e1-ff48cd30b599",
   "metadata": {},
   "outputs": [],
   "source": [
    "new_img = np.zeros((500,500,3),np.uint8)*255  # for black channel\n",
    "cv2.imshow(\"willmajeet\",new_img)\n",
    "cv2.waitKey(0)\n",
    "cv2.destroyAllWindows()"
   ]
  },
  {
   "cell_type": "code",
   "execution_count": 68,
   "id": "93ff57c4-5889-49d2-b0b4-3ca58a22225c",
   "metadata": {},
   "outputs": [
    {
     "name": "stdout",
     "output_type": "stream",
     "text": [
      "[[[186 194 211]\n",
      "  [186 194 211]\n",
      "  [186 194 211]\n",
      "  ...\n",
      "  [186 194 211]\n",
      "  [186 194 211]\n",
      "  [186 194 211]]\n",
      "\n",
      " [[186 194 211]\n",
      "  [186 194 211]\n",
      "  [186 194 211]\n",
      "  ...\n",
      "  [186 194 211]\n",
      "  [186 194 211]\n",
      "  [186 194 211]]\n",
      "\n",
      " [[186 194 211]\n",
      "  [186 194 211]\n",
      "  [186 194 211]\n",
      "  ...\n",
      "  [186 194 211]\n",
      "  [186 194 211]\n",
      "  [186 194 211]]\n",
      "\n",
      " ...\n",
      "\n",
      " [[186 195 209]\n",
      "  [186 195 209]\n",
      "  [186 194 211]\n",
      "  ...\n",
      "  [186 194 211]\n",
      "  [186 194 211]\n",
      "  [186 194 211]]\n",
      "\n",
      " [[186 195 209]\n",
      "  [186 195 209]\n",
      "  [186 194 211]\n",
      "  ...\n",
      "  [186 194 211]\n",
      "  [186 194 211]\n",
      "  [186 194 211]]\n",
      "\n",
      " [[186 195 209]\n",
      "  [186 195 209]\n",
      "  [186 194 211]\n",
      "  ...\n",
      "  [186 194 211]\n",
      "  [186 194 211]\n",
      "  [186 194 211]]]\n"
     ]
    }
   ],
   "source": [
    "print(img)"
   ]
  },
  {
   "cell_type": "code",
   "execution_count": 12,
   "id": "817b37cc-98fe-458f-afd7-aa109ada595c",
   "metadata": {},
   "outputs": [],
   "source": [
    "img = cv2.imread(\"img5.jpg\")\n",
    "img = cv2.resize(img,(700,500))\n",
    "\n",
    "crop = img[34:187, 258:432] # 432-258=174+432=606\n",
    "img[34:187, 432:606] = crop # right\n",
    "img[34:187, 84:258] = crop   # left  (258-174)\n",
    "  \n",
    "\n",
    "cv2.imwrite(\"save.jpg\",img)  # to save the resize img.\n",
    "cv2.imshow(\"willmajeet\",img)\n",
    "cv2.waitKey(0)\n",
    "cv2.destroyAllWindows()\n"
   ]
  },
  {
   "cell_type": "code",
   "execution_count": 54,
   "id": "d57bd97d-bcf6-4a9e-8caf-1159daed3d27",
   "metadata": {},
   "outputs": [],
   "source": [
    "# img[y1:y2,x1:x2]\n",
    "img = cv2.imread(\"save.jpg\")\n",
    "\n",
    "\n",
    "crop = img[34:187, 258:432]  # shortcut trick to get it by paint\n",
    "\n",
    "cv2.imshow(\"willmajeet\",crop)\n",
    "cv2.waitKey(0)\n",
    "cv2.destroyAllWindows()"
   ]
  },
  {
   "cell_type": "code",
   "execution_count": null,
   "id": "c86ba6f5-d9b3-4fb1-a324-01e28552cfa6",
   "metadata": {},
   "outputs": [],
   "source": [
    "# flip, rotate, transpose.\n",
    "\n",
    "img = cv2.imread(\"img1.jpg\")\n",
    "img = cv2.resize(img,(500,500))\n",
    "\n",
    "#img = cv2.flip(img,1) # y axis\n",
    "#img = cv2.flip(img,0) # x axis\n",
    "#img = cv2.flip(img,-1) # y,x axis\n",
    "\n",
    "#img = cv2.rotate(img,cv2.ROTATE_180)\n",
    "#img = cv2.rotate(img,cv2.ROTATE_90_CLOCKWISE)\n",
    "#img = cv2.rotate(img,cv2.ROTATE_90_COUNTERCLOCKWISE)\n",
    "\n",
    "img = cv2.transpose(img)\n",
    "\n",
    "cv2.imshow(\"willmajeet\",img)\n",
    "cv2.waitKey(0)\n",
    "cv2.destroyAllWindows()\n"
   ]
  },
  {
   "cell_type": "code",
   "execution_count": 5,
   "id": "1326dbb7-09b6-44f0-889a-9fcb9435ee0d",
   "metadata": {},
   "outputs": [],
   "source": [
    "# saving a video.\n",
    "cap = cv2.VideoCapture(0)\n",
    "\n",
    "f = cv2.VideoWriter_fourcc(*\"XVID\") # to record normal like mp4,hd etc.video.\n",
    "out = cv2.VideoWriter(\"willma1.mp4\",f,20.0,(640,480),0)  # frame per second,pixel size.   to save the video. 0 FOR REMOVING ALL 3 COLOURS.\n",
    "while cap.isOpened():\n",
    "    r,frame = cap.read()\n",
    "    if r == True:\n",
    "        frame = cv2.cvtColor(frame,cv2.COLOR_BGR2GRAY)\n",
    "        frame = cv2.flip(frame,1)\n",
    "        out.write(frame)\n",
    "        cv2.imshow(\"willmajeet\",frame)\n",
    "        if cv2.waitKey(1) & 0xff == ord(\"p\"):\n",
    "            break\n",
    "    else:\n",
    "        break\n",
    "\n",
    "cap.release()\n",
    "out.release()\n",
    "cv2.destroyAllWindows()\n",
    "\n"
   ]
  },
  {
   "cell_type": "code",
   "execution_count": null,
   "id": "b8d0d789-d7b3-4914-8ac4-fdb6367a9ea8",
   "metadata": {},
   "outputs": [],
   "source": []
  }
 ],
 "metadata": {
  "kernelspec": {
   "display_name": "Python 3 (ipykernel)",
   "language": "python",
   "name": "python3"
  },
  "language_info": {
   "codemirror_mode": {
    "name": "ipython",
    "version": 3
   },
   "file_extension": ".py",
   "mimetype": "text/x-python",
   "name": "python",
   "nbconvert_exporter": "python",
   "pygments_lexer": "ipython3",
   "version": "3.12.4"
  }
 },
 "nbformat": 4,
 "nbformat_minor": 5
}
