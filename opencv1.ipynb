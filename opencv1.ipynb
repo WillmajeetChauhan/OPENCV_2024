{
 "cells": [
  {
   "cell_type": "code",
   "execution_count": null,
   "id": "5e9cbc9d-1ca5-4c12-9de8-d6e6e97f379a",
   "metadata": {},
   "outputs": [],
   "source": [
    "import cv2\n",
    "import numpy as np"
   ]
  },
  {
   "cell_type": "code",
   "execution_count": null,
   "id": "95bc7f34-3f90-414a-a335-7a90cf9ccceb",
   "metadata": {},
   "outputs": [],
   "source": [
    "old_img = cv2.imread(\"img5.jpg\")\n",
    "old_img = cv2.resize(old_img,(500,600))\n",
    "\n",
    "new_img = cv2.line(img = old_img , pt1 = (180,60), pt2 = (310,60) , color = (255,0,0), thickness = 4 , lineType = 4) #bgr colour are used\n",
    "\n",
    "cv2.imshow(\"willmajeet\",new_img)\n",
    "cv2.waitKey(0)\n",
    "cv2.destroyAllWindows()"
   ]
  },
  {
   "cell_type": "code",
   "execution_count": 4,
   "id": "f8fad8fa-ff9f-4d73-b8f7-358a578aa0b9",
   "metadata": {},
   "outputs": [],
   "source": [
    "old_img = cv2.imread(\"img5.jpg\")\n",
    "old_img = cv2.resize(old_img,(500,600))\n",
    "\n",
    "new_img = cv2.rectangle(img = old_img , pt1 = (180,60), pt2 = (310,220) , color = (255,0,0), thickness = 4 , lineType = 16)\n",
    "\n",
    "cv2.imshow(\"willmajeet\",new_img)\n",
    "cv2.waitKey(0)\n",
    "cv2.destroyAllWindows()"
   ]
  },
  {
   "cell_type": "code",
   "execution_count": 85,
   "id": "4b45aee5-a2a8-446e-b405-a5e0a6146980",
   "metadata": {},
   "outputs": [],
   "source": [
    "old_img = cv2.imread(\"img1.jpg\")\n",
    "old_img = cv2.resize(old_img,(500,600))\n",
    "\n",
    "new_img = cv2.circle(img = old_img , center = (270,140) , radius = 110 , color = (255,0,0), thickness = 4 , lineType = 16) #bgr colour are used\n",
    "\n",
    "cv2.imshow(\"willmajeet\",new_img)\n",
    "cv2.waitKey(0)\n",
    "cv2.destroyAllWindows()"
   ]
  },
  {
   "cell_type": "code",
   "execution_count": 6,
   "id": "1862533b-415f-46ba-aaf3-87fc141062ac",
   "metadata": {},
   "outputs": [],
   "source": [
    "old_img = cv2.imread(\"img1.jpg\")\n",
    "old_img = cv2.resize(old_img,(500,600))\n",
    "\n",
    "new_img = cv2.circle(img = old_img , center = (270,140) , radius = 110 , color = (255,0,0), thickness = -1 , lineType = 16) #bgr colour are used\n",
    "\n",
    "cv2.imshow(\"willmajeet\",new_img)\n",
    "cv2.waitKey(0)\n",
    "cv2.destroyAllWindows()"
   ]
  },
  {
   "cell_type": "code",
   "execution_count": 129,
   "id": "4a306b60-5a42-4ae9-ae3e-c85c87905fcc",
   "metadata": {},
   "outputs": [],
   "source": [
    "old_img = cv2.imread(\"img3.jpg\")\n",
    "old_img = cv2.resize(old_img,(500,600))\n",
    "\n",
    "new_img = cv2.ellipse(img = old_img , center = (235,100) , axes = (50,90), angle = 170, startAngle = 0, endAngle = 360 , color = (255,0,0), thickness = 4 ,\n",
    "                                        lineType = 16) #bgr colour are used\n",
    "\n",
    "cv2.imshow(\"willmajeet\",new_img)\n",
    "cv2.waitKey(0)\n",
    "cv2.destroyAllWindows()"
   ]
  },
  {
   "cell_type": "code",
   "execution_count": null,
   "id": "815a2760-6dc3-4482-bba4-789a22c6f22d",
   "metadata": {},
   "outputs": [],
   "source": [
    "old_img = cv2.imread(\"img3.jpg\")\n",
    "old_img = cv2.resize(old_img,(500,600))\n",
    "\n",
    "\n",
    "txt_img = cv2.putText(img = old_img,\n",
    "text = \"SMRITI\",\n",
    "org = (100,135),\n",
    "fontFace = cv2.FONT_HERSHEY_TRIPLEX,\n",
    "fontScale = 1,\n",
    "color = (255,0,0),\n",
    "thickness = 3,\n",
    "lineType = cv2.LINE_8,\n",
    "bottomLeftOrigin = False)\n",
    "\n",
    "new_img = cv2.ellipse(img = txt_img , center = (235,100) , axes = (50,90), angle = 170, startAngle = 0, endAngle = 340 , color = (255,0,0), thickness = 4 ,\n",
    "                                        lineType = 16) #bgr colour are used\n",
    "\n",
    "cv2.imshow(\"willmajeet\",new_img)\n",
    "cv2.waitKey(0)\n",
    "cv2.destroyAllWindows()"
   ]
  },
  {
   "cell_type": "code",
   "execution_count": 11,
   "id": "5105ad79-7d90-44e9-8e09-1d3b82cd3720",
   "metadata": {},
   "outputs": [],
   "source": [
    "import numpy as np"
   ]
  },
  {
   "cell_type": "code",
   "execution_count": 27,
   "id": "7042d4b7-aa82-4c02-b0e1-8dd788a213be",
   "metadata": {},
   "outputs": [],
   "source": [
    "#old_img = cv2.imread(\"img5.jpg\")\n",
    "#old_img = cv2.resize(old_img,(500,600))\n",
    "\n",
    "#new_img = cv2.polylines(img = old_img , pts = [np.array([[500,700],[200,250],[300,300],[130,600],[300,600]])] ,isClosed = True, color = (255,0,0), \n",
    "                       # thickness = 4 , lineType = 4) #bgr colour are used\n",
    "\n",
    "#cv2.imshow(\"willmajeet\",new_img)\n",
    "#cv2.waitKey(0)\n",
    "#cv2.destroyAllWindows()"
   ]
  },
  {
   "cell_type": "code",
   "execution_count": null,
   "id": "8e6dc922-2704-4e6b-ad5c-2df4362e453b",
   "metadata": {},
   "outputs": [],
   "source": [
    "img1 = cv2.imread(\"img3.jpg\")\n",
    "img2 = cv2.imread(\"img4.jpg\")\n",
    "\n",
    "img1 = cv2.resize(img1,(500,500))\n",
    "img2 = cv2.resize(img2,(500,500))\n",
    "\n",
    "#new_img = cv2.addWeighted(img1,1,img2,0.5,1) #alpha =particular img, gamma = overall img intensity\n",
    "new_img = cv2.subtract(img2,img1)\n",
    "cv2.imshow(\"wscube\",new_img)\n",
    "\n",
    "cv2.waitKey(0)\n",
    "cv2.destroyAllWindows()"
   ]
  },
  {
   "cell_type": "code",
   "execution_count": null,
   "id": "451c0538-ea17-47ff-b224-c24569a1d9a0",
   "metadata": {},
   "outputs": [],
   "source": [
    "img1 = cv2.imread(r\"D:\\Downloads\\img6.jpg\")\n",
    "img2 = cv2.imread(r\"D:\\Downloads\\img7.jpg\")\n",
    "\n",
    "img1 = cv2.resize(img1,(300,300))\n",
    "img2 = cv2.resize(img2,(300,300))\n",
    "\n",
    "#new = cv2.bitwise_and(img1,img2)\n",
    "#new = cv2.bitwise_or(img1,img2)\n",
    "#new = cv2.bitwise_xor(img1,img2)\n",
    "new = cv2.bitwise_not(img1)\n",
    "new1 = cv2.bitwise_not(img2)\n",
    "\n",
    "\n",
    "h = np.hstack((img1,new))\n",
    "h1 = np.hstack((img2,new1))\n",
    "\n",
    "v = np.vstack((h,h1))\n",
    "cv2.imshow(\"wscube\",v)\n",
    "\n",
    "cv2.waitKey(0)\n",
    "cv2.destroyAllWindows()"
   ]
  },
  {
   "cell_type": "code",
   "execution_count": null,
   "id": "0d61b893-1938-4cc5-868f-2e71c5073740",
   "metadata": {},
   "outputs": [],
   "source": [
    "img1 = cv2.imread(r\"D:\\Downloads\\img1.jpg\")\n",
    "\n",
    "\n",
    "img1 = cv2.resize(img1,(300,300))\n",
    "\n",
    "\n",
    "new = cv2.bitwise_not(img1)\n",
    "\n",
    "\n",
    "\n",
    "\n",
    "\n",
    "\n",
    "cv2.imshow(\"wscube\",new)\n",
    "\n",
    "cv2.waitKey(0)\n",
    "cv2.destroyAllWindows()"
   ]
  },
  {
   "cell_type": "code",
   "execution_count": 9,
   "id": "2c0d9ccc-22d6-418e-aaf0-9fcfe595f973",
   "metadata": {},
   "outputs": [],
   "source": [
    "img = cv2.imread(\"img3.jpg\")\n",
    "img = cv2.resize(img,(500,500))\n",
    "#print(img.shape)\n",
    "\n",
    "new_img = cv2.Canny(img,100,200,apertureSize = 7, L2gradient = False)  # threshold,apperture background detection,\n",
    "#print(new_img.shape)\n",
    "\n",
    "cv2.imshow(\"willmajeet\",new_img)\n",
    "cv2.imshow(\"willmajeet1\",img)\n",
    "\n",
    "cv2.waitKey(0)\n",
    "cv2.destroyAllWindows()\n",
    "\n",
    " "
   ]
  },
  {
   "cell_type": "code",
   "execution_count": 13,
   "id": "c7edcaa7-75d1-4701-a5d3-8ac8eb813b2d",
   "metadata": {},
   "outputs": [],
   "source": [
    "org_img = cv2.imread(\"img2.jpg\")\n",
    "res_img = cv2.resize(org_img,(500,500))\n",
    "w,h = res_img.shape[0],res_img.shape[1]\n",
    "#w,h\n",
    "m = cv2.getRotationMatrix2D((w/2,h/2),30,1)#center,angle,scale\n",
    "#m\n",
    "new_img = cv2.warpAffine(res_img,m,(w,h))   # mul resize matrix with new img matrix\n",
    "#new_img\n",
    "\n",
    "h = np.hstack((res_img,new_img))\n",
    "cv2.imshow(\"willmajeet1\",h)\n",
    "\n",
    "cv2.waitKey(0)\n",
    "cv2.destroyAllWindows()\n"
   ]
  },
  {
   "cell_type": "code",
   "execution_count": 15,
   "id": "42ab15fc-dd8c-4b07-ab5e-ebf4b23bda7c",
   "metadata": {},
   "outputs": [],
   "source": [
    "org_img = cv2.imread(r\"D:\\Downloads\\img8.jpg\")\n",
    "res_img = cv2.resize(org_img,(300,300))\n",
    "\n",
    "g = cv2.GaussianBlur(res_img,(3,3),1)\n",
    "m = cv2.medianBlur(res_img,3)   #3,5 only\n",
    "b = cv2.bilateralFilter(res_img,10,100,100)\n",
    "\n",
    "h = np.hstack((res_img,g,m,b))\n",
    "cv2.imshow(\"willmajeet1\",h)\n",
    "\n",
    "cv2.waitKey(0)\n",
    "cv2.destroyAllWindows()\n",
    "\n"
   ]
  },
  {
   "cell_type": "code",
   "execution_count": 17,
   "id": "ec7e1424-84b8-4db7-90ad-385e65a1777a",
   "metadata": {},
   "outputs": [],
   "source": [
    "img = cv2.imread(\"img1.jpg\")\n",
    "re_img = cv2.resize(img,(300,300))\n",
    "\n",
    "h = np.hstack((re_img,re_img))\n",
    "v = np.vstack((h,h))\n",
    "\n",
    "cv2.imwrite(\"new_img1.png\" ,v)\n",
    "cv2.imshow(\"willmajeet1\",v)\n",
    "cv2.waitKey(0)\n",
    "cv2.destroyAllWindows()\n"
   ]
  },
  {
   "cell_type": "code",
   "execution_count": 23,
   "id": "f91baacc-0f75-42b7-9618-d8a949a4637c",
   "metadata": {},
   "outputs": [],
   "source": [
    "img = cv2.imread(\"img3.jpg\")\n",
    "img = cv2.resize(img,(300,300))\n",
    "\n",
    "img1 = cv2.copyMakeBorder(img,20,20,20,20,cv2.BORDER_CONSTANT,None,value = 2)\n",
    "img1 = cv2.resize(img1,(300,300))\n",
    "\n",
    "img2 = cv2.copyMakeBorder(img,20,20,20,20,cv2.BORDER_DEFAULT,None,value = 2)\n",
    "img2 = cv2.resize(img1,(300,300))\n",
    "\n",
    "\n",
    "h = np.hstack((img,img1,img2))\n",
    "\n",
    "cv2.imshow(\"willmajeet\",h)\n",
    "cv2.waitKey(0)\n",
    "cv2.destroyAllWindows()"
   ]
  },
  {
   "cell_type": "code",
   "execution_count": 21,
   "id": "1b71038e-7371-4bef-9293-c6402a798de9",
   "metadata": {},
   "outputs": [],
   "source": [
    "img = cv2.imread(R\"D:\\Downloads\\img8.jpg\")\n",
    "img = cv2.resize(img,(300,300))\n",
    "\n",
    "\n",
    "\n",
    "#img2 = cv2.copyMakeBorder(img,20,20,20,20,cv2.BORDER_REFLECT)\n",
    "img2 = cv2.copyMakeBorder(img,20,20,20,20,cv2.BORDER_REPLICATE)\n",
    "\n",
    "\n",
    "\n",
    "\n",
    "\n",
    "\n",
    "cv2.imshow(\"willmajeet\",img2)\n",
    "cv2.waitKey(0)\n",
    "cv2.destroyAllWindows()"
   ]
  },
  {
   "cell_type": "code",
   "execution_count": null,
   "id": "7783fadf-494c-4d36-b708-9612e40b4088",
   "metadata": {},
   "outputs": [],
   "source": []
  }
 ],
 "metadata": {
  "kernelspec": {
   "display_name": "Python 3 (ipykernel)",
   "language": "python",
   "name": "python3"
  },
  "language_info": {
   "codemirror_mode": {
    "name": "ipython",
    "version": 3
   },
   "file_extension": ".py",
   "mimetype": "text/x-python",
   "name": "python",
   "nbconvert_exporter": "python",
   "pygments_lexer": "ipython3",
   "version": "3.12.4"
  }
 },
 "nbformat": 4,
 "nbformat_minor": 5
}
