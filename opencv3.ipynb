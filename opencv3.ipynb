{
 "cells": [
  {
   "cell_type": "code",
   "execution_count": 3,
   "id": "e7d8b9b4-14ac-4441-b15e-9f55d758876d",
   "metadata": {},
   "outputs": [],
   "source": [
    "import cv2\n",
    "import numpy as np"
   ]
  },
  {
   "cell_type": "code",
   "execution_count": 5,
   "id": "3bfe182f-7791-4ccd-a2ca-73226ca46f38",
   "metadata": {},
   "outputs": [],
   "source": [
    "cap = cv2.VideoCapture(r\"C:\\Users\\HP LAPTOP-PC\\Desktop\\video2.mp4\")\n",
    "\n",
    "while cap.isOpened():\n",
    "     r,frame = cap.read()\n",
    "     if r == True:\n",
    "       frame = cv2.resize(frame,(600,500))\n",
    "       cv2.imshow(\"willmajeet\",frame)\n",
    "       if cv2.waitKey(25) & 0xff == ord(\"p\"):\n",
    "           break\n",
    "     else:\n",
    "         break\n",
    "\n",
    "cap.release()\n",
    "cv2.destroyAllWindows()\n",
    "     "
   ]
  },
  {
   "cell_type": "code",
   "execution_count": 6,
   "id": "84a42a16-aeeb-4438-b257-27be7ec82590",
   "metadata": {},
   "outputs": [],
   "source": [
    "cap = cv2.VideoCapture(0)\n",
    "\n",
    "while True:\n",
    "     r,frame = cap.read()\n",
    "     if r == True:\n",
    "       frame = cv2.resize(frame,(600,500))\n",
    "       cv2.imshow(\"willmajeet\",frame)\n",
    "       if cv2.waitKey(20) & 0xff == ord(\"p\"):\n",
    "           break\n",
    "     else:\n",
    "         break\n",
    "\n",
    "cap.release()\n",
    "cv2.destroyAllWindows()"
   ]
  },
  {
   "cell_type": "code",
   "execution_count": 11,
   "id": "206ef4dd-0318-4dd4-be94-0aff09a0672c",
   "metadata": {},
   "outputs": [],
   "source": [
    "cap = cv2.VideoCapture(r\"C:\\Users\\HP LAPTOP-PC\\Desktop\\video2.mp4\")\n",
    "\n",
    "while cap.isOpened():\n",
    "     rat,frame = cap.read()\n",
    "     if rat == True:\n",
    "       frame = cv2.resize(frame,(600,500))\n",
    "       cv2.imshow(\"willmajeet\",frame)\n",
    "       if cv2.waitKey(5) & 0xff == ord(\"p\"):    #0-25 (fast speed of video), after 25 slow speed\n",
    "           break\n",
    "     else:\n",
    "         break\n",
    "\n",
    "cap.release()\n",
    "cv2.destroyAllWindows()"
   ]
  },
  {
   "cell_type": "code",
   "execution_count": null,
   "id": "1be62363-090b-4712-b452-81b8674146f3",
   "metadata": {},
   "outputs": [],
   "source": [
    "img = cv2.imread(\"img9.jpg\")\n",
    "img = cv2.resize(img,(500,500))\n",
    "\n",
    "m = np.ones((30,30),np.int8)\n",
    "#print(m)\n",
    "\n",
    "er = cv2.erode(img,m,iterations= 1)   # compress the size\n",
    "di = cv2.dilate(img,m,iterations = 1)    # increase   the size\n",
    "\n",
    "cv2.imshow(\"willma\",img)\n",
    "cv2.imshow(\"willma1\",er)\n",
    "cv2.imshow(\"willma3\",di)\n",
    "cv2.waitKey(0)\n",
    "cv2.destroyAllWindows()"
   ]
  },
  {
   "cell_type": "code",
   "execution_count": null,
   "id": "6a6b1c32-4ad2-419c-94f4-ffe9fb1306f4",
   "metadata": {},
   "outputs": [],
   "source": [
    "img = cv2.imread(r\"D:\\Downloads\\img10.jpg\")\n",
    "img = cv2.resize(img,(500,500))\n",
    "\n",
    "k = np.ones((5,5),np.int8)\n",
    "\n",
    "\n",
    "\n",
    "op = cv2.morphologyEx(img,cv2.MORPH_OPEN ,k,iterations = 1)  # remove background noise \n",
    "\n",
    "cv2.imshow(\"willma\",img)\n",
    "cv2.imshow(\"willma1\",op)\n",
    "\n",
    "cv2.waitKey(0)\n",
    "cv2.destroyAllWindows()"
   ]
  },
  {
   "cell_type": "code",
   "execution_count": null,
   "id": "0027dfc8-5868-446a-bc05-0c920a28fa53",
   "metadata": {},
   "outputs": [],
   "source": [
    "img = cv2.imread(r\"D:\\Downloads\\img9.jpg\")\n",
    "img = cv2.resize(img,(500,500))\n",
    "\n",
    "k = np.ones((40,40),np.int8)\n",
    "#bt= cv2.morphologyEx(img,cv2.MORPH_BLACKHAT ,k,iterations = 1) # only some part were shown.\n",
    "tp= cv2.morphologyEx(img,cv2.MORPH_TOPHAT ,k,iterations = 1) # comon part get deleted\n",
    "\n",
    "gr= cv2.morphologyEx(img,cv2.MORPH_GRADIENT ,k,iterations = 1)  \n",
    "#cl= cv2.morphologyEx(img,cv2.MORPH_CLOSE ,k,iterations = 1)   \n",
    "\n",
    "cv2.imshow(\"willma\",img)\n",
    "cv2.imshow(\"willma1\",tp)\n",
    "\n",
    "cv2.waitKey(0)\n",
    "cv2.destroyAllWindows()\n"
   ]
  },
  {
   "cell_type": "code",
   "execution_count": 11,
   "id": "9a94e441-8374-4a2c-b8c9-eb7810ca8fa8",
   "metadata": {},
   "outputs": [
    {
     "name": "stdout",
     "output_type": "stream",
     "text": [
      "(640, 800, 3)\n",
      "(320, 400, 3)\n",
      "(160, 200, 3)\n",
      "(80, 100, 3)\n"
     ]
    }
   ],
   "source": [
    "img = cv2.imread(\"img3.jpg\")\n",
    "print(img.shape)\n",
    "\n",
    "new = cv2.pyrDown(img)   # image pyramid\n",
    "print(new.shape)\n",
    "\n",
    "new1 = cv2.pyrDown(new)\n",
    "print(new1.shape)\n",
    "\n",
    "new2 = cv2.pyrDown(new1)\n",
    "print(new2.shape)\n",
    "\n",
    "cv2.imshow(\"willmajeet\",img)\n",
    "cv2.imshow(\"willmajeet1\",new)\n",
    "cv2.imshow(\"willmajeet2\",new1)\n",
    "cv2.imshow(\"willmajeet3\",new2)\n",
    "\n",
    "cv2.waitKey(0)\n",
    "cv2.destroyAllWindows()\n",
    "\n"
   ]
  },
  {
   "cell_type": "code",
   "execution_count": 20,
   "id": "1d223580-8a34-40ab-9b69-86843d17369d",
   "metadata": {},
   "outputs": [
    {
     "name": "stdout",
     "output_type": "stream",
     "text": [
      "(320, 400, 3)\n",
      "(160, 200, 3)\n"
     ]
    }
   ],
   "source": [
    "img = cv2.imread(\"img3.jpg\")\n",
    "\n",
    "new = cv2.pyrDown(img)\n",
    "print(new.shape)\n",
    "\n",
    "new1 = cv2.pyrDown(new)\n",
    "\n",
    "new2 = cv2.pyrDown(new1)\n",
    "\n",
    "big_img = cv2.pyrDown(new)\n",
    "print(big_img.shape)\n",
    "\n",
    "\n",
    "cv2.imshow(\"willmajeet\",new)\n",
    "cv2.imshow(\"willmajeet2\",big_img)\n",
    "\n",
    "cv2.waitKey(0)\n",
    "cv2.destroyAllWindows()\n",
    "\n"
   ]
  },
  {
   "cell_type": "code",
   "execution_count": 7,
   "id": "337d1efe-c26d-45e8-9d7e-3ddb816eaafc",
   "metadata": {},
   "outputs": [],
   "source": [
    "img = cv2.imread(\"img2.jpg\")\n",
    "img = cv2.resize(img,(500,500))\n",
    "\n",
    "m = np.float32([[1,0,100],[0,1,100]])\n",
    "\n",
    "new = cv2.warpAffine(img,m,(500,500))  # crop the image\n",
    "\n",
    "cv2.imshow(\"willmajeet\",img)\n",
    "cv2.imshow(\"willmajeet1\",m)\n",
    "cv2.imshow(\"willmajeet2\",new)\n",
    "\n",
    "cv2.waitKey(0)\n",
    "cv2.destroyAllWindows()\n"
   ]
  },
  {
   "cell_type": "code",
   "execution_count": 3,
   "id": "dd6e9255-c8a9-4780-a32b-203dcbad51ea",
   "metadata": {},
   "outputs": [],
   "source": [
    "# mouse event bindings\n",
    "\n",
    "def python(event,x,y,f,p): # to provide which function would perform\n",
    "    if event == cv2.EVENT_LBUTTONDOWN:\n",
    "        cv2.circle(img,(x,y),5,(0,0,255),4)\n",
    "    elif event == cv2.EVENT_RBUTTONDOWN:\n",
    "        cv2.rectangle(img,(x,y),(x+20,y+20),(255,0,0),4)\n",
    "        \n",
    "cv2.namedWindow(\"willma\")  # create window\n",
    "img = np.ones((600,600,3),np.uint8)*255\n",
    "cv2.setMouseCallback(\"willma\",python) # set mouse to perform action\n",
    "while True:\n",
    "    cv2.imshow(\"willma\",img)\n",
    "    if cv2.waitKey(25) & 0xff == ord(\"p\"):\n",
    "         break\n",
    "cv2.destroyAllWindows()"
   ]
  },
  {
   "cell_type": "code",
   "execution_count": null,
   "id": "abcffded-7cc6-4bab-8771-8552cd088e60",
   "metadata": {},
   "outputs": [],
   "source": []
  }
 ],
 "metadata": {
  "kernelspec": {
   "display_name": "Python 3 (ipykernel)",
   "language": "python",
   "name": "python3"
  },
  "language_info": {
   "codemirror_mode": {
    "name": "ipython",
    "version": 3
   },
   "file_extension": ".py",
   "mimetype": "text/x-python",
   "name": "python",
   "nbconvert_exporter": "python",
   "pygments_lexer": "ipython3",
   "version": "3.12.4"
  }
 },
 "nbformat": 4,
 "nbformat_minor": 5
}
